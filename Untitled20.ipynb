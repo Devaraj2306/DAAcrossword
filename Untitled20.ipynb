{
  "nbformat": 4,
  "nbformat_minor": 0,
  "metadata": {
    "colab": {
      "private_outputs": true,
      "provenance": [],
      "authorship_tag": "ABX9TyPlXr9VVPvPzj0dVpcahYSD",
      "include_colab_link": true
    },
    "kernelspec": {
      "name": "python3",
      "display_name": "Python 3"
    },
    "language_info": {
      "name": "python"
    }
  },
  "cells": [
    {
      "cell_type": "markdown",
      "metadata": {
        "id": "view-in-github",
        "colab_type": "text"
      },
      "source": [
        "<a href=\"https://colab.research.google.com/github/Devaraj2306/DAAcrossword/blob/main/Untitled20.ipynb\" target=\"_parent\"><img src=\"https://colab.research.google.com/assets/colab-badge.svg\" alt=\"Open In Colab\"/></a>"
      ]
    },
    {
      "cell_type": "code",
      "execution_count": null,
      "metadata": {
        "id": "zX73waucXwqP"
      },
      "outputs": [],
      "source": [
        "import numpy as np\n",
        "import pandas as pd\n",
        "import matplotlib.pyplot as plt\n",
        "import seaborn as sb\n",
        "\n",
        "from sklearn.model_selection import train_test_split\n",
        "from sklearn.preprocessing import StandardScaler\n",
        "from sklearn.linear_model import LogisticRegression\n",
        "from sklearn.svm import SVC\n",
        "from xgboost import XGBClassifier\n",
        "from sklearn import metrics\n",
        "\n",
        "import warnings\n",
        "warnings.filterwarnings('ignore')"
      ]
    },
    {
      "cell_type": "code",
      "source": [
        "df = pd.read_csv('tatamotors.csv')\n",
        "df.head()"
      ],
      "metadata": {
        "id": "404pp4yuX-Nk"
      },
      "execution_count": null,
      "outputs": []
    },
    {
      "cell_type": "code",
      "source": [
        "df.shape"
      ],
      "metadata": {
        "id": "rdIooLgBYqhl"
      },
      "execution_count": null,
      "outputs": []
    },
    {
      "cell_type": "code",
      "source": [
        "df.describe()"
      ],
      "metadata": {
        "id": "b_5MArbfYuYp"
      },
      "execution_count": null,
      "outputs": []
    },
    {
      "cell_type": "code",
      "source": [
        "df.info()"
      ],
      "metadata": {
        "id": "H1LUlJJYYyqJ"
      },
      "execution_count": null,
      "outputs": []
    },
    {
      "cell_type": "code",
      "source": [
        "plt.figure(figsize=(15,5))\n",
        "plt.plot(df['Close'])\n",
        "plt.title('Tesla Close price.', fontsize=15)\n",
        "plt.ylabel('Price in dollars.')\n",
        "plt.show()"
      ],
      "metadata": {
        "id": "9mZD2tJNY14s"
      },
      "execution_count": null,
      "outputs": []
    },
    {
      "cell_type": "code",
      "source": [
        "df.head()"
      ],
      "metadata": {
        "id": "1ozjrXb2Y67W"
      },
      "execution_count": null,
      "outputs": []
    },
    {
      "cell_type": "code",
      "source": [
        "df[df['Close'] == df['Adj Close']].shape"
      ],
      "metadata": {
        "id": "iWK9BW8-Y9iH"
      },
      "execution_count": null,
      "outputs": []
    },
    {
      "cell_type": "code",
      "source": [
        "print(df.columns)\n",
        "df = df.drop(['Adj Close'], axis=1)"
      ],
      "metadata": {
        "id": "6XHtebSRZEJR"
      },
      "execution_count": null,
      "outputs": []
    },
    {
      "cell_type": "code",
      "source": [
        "df.isnull().sum()"
      ],
      "metadata": {
        "id": "HPT7HYd1b7w2"
      },
      "execution_count": null,
      "outputs": []
    },
    {
      "cell_type": "code",
      "source": [
        "features = ['Open', 'High', 'Low', 'Close', 'Volume']\n",
        "\n",
        "plt.subplots(figsize=(20,10))\n",
        "\n",
        "for i, col in enumerate(features):\n",
        "    plt.subplot(2,3,i+1) # Indent this line\n",
        "    sb.distplot(df[col])\n",
        "    plt.show()"
      ],
      "metadata": {
        "id": "Co_mo-wIcBj1"
      },
      "execution_count": null,
      "outputs": []
    },
    {
      "cell_type": "code",
      "source": [
        "plt.subplots(figsize=(20,10))\n",
        "for i, col in enumerate(features):\n",
        "    plt.subplot(2,3,i+1) # Indent this line by adding 4 spaces\n",
        "    sb.boxplot(df[col])\n",
        "    plt.show()"
      ],
      "metadata": {
        "id": "rHLkDXCkcSbM"
      },
      "execution_count": null,
      "outputs": []
    },
    {
      "cell_type": "code",
      "source": [
        "splitted = df['Date'].str.split('-', expand=True)\n",
        "\n",
        "df['year'] = splitted[0].astype('int')\n",
        "df['month'] = splitted[1].astype('int')\n",
        "df['day'] = splitted[2].astype('int')\n",
        "\n",
        "df.head()"
      ],
      "metadata": {
        "id": "KL11H31eccmd"
      },
      "execution_count": null,
      "outputs": []
    },
    {
      "cell_type": "code",
      "source": [
        "df['is_quarter_end'] = np.where(df['month']%3==0,1,0)\n",
        "df.head()\n"
      ],
      "metadata": {
        "id": "y7qui3yAdWsz"
      },
      "execution_count": null,
      "outputs": []
    },
    {
      "cell_type": "code",
      "source": [
        "# Convert 'Date' to datetime object after splitting\n",
        "splitted = df['Date'].str.split('-', expand=True)\n",
        "df['year'] = splitted[0].astype('int')\n",
        "df['month'] = splitted[1].astype('int')\n",
        "df['day'] = splitted[2].astype('int')\n",
        "\n",
        "# Create a datetime column\n",
        "df['Date'] = pd.to_datetime(df[['year', 'month', 'day']])\n",
        "\n",
        "# Now group by year and calculate the mean\n",
        "data_grouped = df.groupby('year').mean()\n",
        "\n",
        "# Continue with your plotting code\n",
        "plt.subplots(figsize=(20,10))\n",
        "for i, col in enumerate(['Open', 'High', 'Low', 'Close']):\n",
        "    plt.subplot(2,2,i+1)\n",
        "    data_grouped[col].plot.bar()\n",
        "    plt.show()\n"
      ],
      "metadata": {
        "id": "eBl4cR5TdbCL"
      },
      "execution_count": null,
      "outputs": []
    },
    {
      "cell_type": "code",
      "source": [
        "df.groupby('is_quarter_end').mean()\n"
      ],
      "metadata": {
        "id": "cjk3BDt2dzXP"
      },
      "execution_count": null,
      "outputs": []
    },
    {
      "cell_type": "code",
      "source": [
        "df['open-close'] = df['Open'] - df['Close']\n",
        "df['low-high'] = df['Low'] - df['High']\n",
        "df['target'] = np.where(df['Close'].shift(-1) > df['Close'], 1, 0)\n"
      ],
      "metadata": {
        "id": "U5iNxPrGd1Rl"
      },
      "execution_count": null,
      "outputs": []
    },
    {
      "cell_type": "code",
      "source": [
        "plt.pie(df['target'].value_counts().values,\n",
        "\t\tlabels=[0, 1], autopct='%1.1f%%')\n",
        "plt.show()\n"
      ],
      "metadata": {
        "id": "zkrGMuxkeICg"
      },
      "execution_count": null,
      "outputs": []
    },
    {
      "cell_type": "code",
      "source": [
        "plt.figure(figsize=(10, 10))\n",
        "sb.heatmap(df.corr() > 0.9, annot=True, cbar=False)\n",
        "plt.show()\n"
      ],
      "metadata": {
        "id": "BDB4JonselGL"
      },
      "execution_count": null,
      "outputs": []
    }
  ]
}